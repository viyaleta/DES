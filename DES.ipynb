{
  "nbformat": 4,
  "nbformat_minor": 0,
  "metadata": {
    "colab": {
      "name": "DES.ipynb",
      "version": "0.3.2",
      "provenance": [],
      "collapsed_sections": [],
      "include_colab_link": true
    },
    "kernelspec": {
      "name": "python3",
      "display_name": "Python 3"
    }
  },
  "cells": [
    {
      "cell_type": "markdown",
      "metadata": {
        "id": "view-in-github",
        "colab_type": "text"
      },
      "source": [
        "<a href=\"https://colab.research.google.com/github/viyaleta/DES/blob/master/DES.ipynb\" target=\"_parent\"><img src=\"https://colab.research.google.com/assets/colab-badge.svg\" alt=\"Open In Colab\"/></a>"
      ]
    },
    {
      "metadata": {
        "id": "Qrpq8MXKUXYI",
        "colab_type": "code",
        "colab": {}
      },
      "cell_type": "code",
      "source": [
        "class Entity:\n",
        "    def __init__(self, name, state='none', state_duration=0):\n",
        "        self.name = name\n",
        "        self.state = state\n",
        "        self.state_duration = state_duration\n",
        "    \n",
        "            \n",
        "class Resource(Entity):\n",
        "    def __init__(self, name, in_use=False):\n",
        "        Entity.__init__(self, name)\n",
        "        self.in_use = in_use\n",
        "        \n",
        "        \n",
        "class Recipient(Entity):\n",
        "    def __init__(self, name, state='none', state_duration=0):\n",
        "        Entity.__init__(self, name, state='none', state_duration=0)\n",
        "        self.resource = None"
      ],
      "execution_count": 0,
      "outputs": []
    },
    {
      "metadata": {
        "id": "XlxCG5qyhGW9",
        "colab_type": "code",
        "colab": {}
      },
      "cell_type": "code",
      "source": [
        "class Event:\n",
        "    def __init__(self, obj, next_event=None):\n",
        "        self.obj = obj\n",
        "        self.next_event = next_event\n",
        "        \n",
        "    def process(self):\n",
        "        return self.next_event, self.obj.state_duration\n",
        "    \n",
        "    \n",
        "def link_events(events):\n",
        "    for i in range(1, len(events)):\n",
        "        events[i-1].next_event = events[i]\n",
        "        \n",
        "        \n",
        "class ChangeState(Event):\n",
        "    def __init__(self, obj, new_state='', new_state_duration=0, \n",
        "                 next_event=None):\n",
        "        Event.__init__(self, obj, next_event)\n",
        "        self.new_state = new_state\n",
        "        self.new_state_duration = new_state_duration\n",
        "        \n",
        "    def process(self):\n",
        "        old_state = self.obj.state\n",
        "        self.obj.state = self.new_state\n",
        "        self.obj.state_duration = self.new_state_duration\n",
        "        print('{} changed state from {} to {}'\n",
        "              .format(self.obj.name, old_state, self.new_state))\n",
        "        \n",
        "        return self.next_event, self.obj.state_duration\n",
        "    \n",
        "    \n",
        "class AllocateResource(Event):\n",
        "    def __init__(self, obj, new_state='', new_state_duration=0, \n",
        "                 resources=[], next_event=None):\n",
        "        Event.__init__(self, obj, next_event)\n",
        "        self.resources = resources\n",
        "        self.new_state = new_state\n",
        "        self.new_state_duration = new_state_duration\n",
        "        \n",
        "    def process(self):\n",
        "        resource_dibs = None\n",
        "        \n",
        "        # check if the resource is in use\n",
        "        for resource in self.resources:\n",
        "            if resource.in_use == False:\n",
        "                resource_dibs = resource\n",
        "                break\n",
        "                \n",
        "        # if nothing, wait one more tick\n",
        "        if not resource_dibs:\n",
        "            print('all resources are allocated... {} - {}'\n",
        "                  .format(self.obj.name, self.obj.state))\n",
        "            return self, 1\n",
        "            \n",
        "        # change state\n",
        "        old_state = self.obj.state\n",
        "        self.obj.state = self.new_state\n",
        "        self.obj.state_duration = self.new_state_duration\n",
        "        print('{} changed state from {} to {} - using {}'\n",
        "              .format(self.obj.name, old_state, self.new_state, resource_dibs.name))\n",
        "        \n",
        "        # allocate the resource\n",
        "        self.obj.resource = resource_dibs\n",
        "        self.obj.resource.in_use = True\n",
        "        \n",
        "        return self.next_event, self.obj.state_duration\n",
        "        \n",
        "        \n",
        "class DeallocateResource(Event):\n",
        "    def __init__(self, obj, new_state='', new_state_duration=0, next_event=None):\n",
        "        Event.__init__(self, obj, next_event)\n",
        "        self.new_state = new_state\n",
        "        self.new_state_duration = new_state_duration\n",
        "        \n",
        "    def process(self):\n",
        "        # change state\n",
        "        old_state = self.obj.state\n",
        "        self.obj.state = self.new_state\n",
        "        self.obj.state_duration = self.new_state_duration\n",
        "        print('{} changed state from {} to {}'\n",
        "              .format(self.obj.name, old_state, self.new_state))\n",
        "        \n",
        "        # change resource to not in use and remove from recipient\n",
        "        self.obj.resource.in_use = False\n",
        "        self.obj.resource = None\n",
        "        \n",
        "        return self.next_event, self.obj.state_duration"
      ],
      "execution_count": 0,
      "outputs": []
    },
    {
      "metadata": {
        "id": "1_shdkiGg-jR",
        "colab_type": "code",
        "colab": {}
      },
      "cell_type": "code",
      "source": [
        "class Stream:\n",
        "    def __init__(self, until=-1):\n",
        "        self.time = 0\n",
        "        self.future_events = []\n",
        "        self.until = until\n",
        "        \n",
        "    def run(self):\n",
        "        while True:\n",
        "            \n",
        "            # progress time\n",
        "            self.progress_time()\n",
        "\n",
        "            # for all events in the current time, process event\n",
        "            while len(self.future_events)>0 and self.time==self.future_events[0][0]:\n",
        "                _, event = self.future_events.pop(0)\n",
        "                if event:\n",
        "                    next_event, next_event_duration = event.process()\n",
        "\n",
        "                    # schedule next event\n",
        "                    self.schedule(next_event, next_event_duration)\n",
        "           \n",
        "            if self.break_condition():\n",
        "                break\n",
        "                \n",
        "    def break_condition(self):\n",
        "        if len(self.future_events)==0 or (self.time+1)==self.until:\n",
        "            return True\n",
        "                \n",
        "    def progress_time(self):\n",
        "        # grab time of the next event in the queue\n",
        "        self.time = self.future_events[0][0]\n",
        "        print('Time: {} '.format(self.time))\n",
        "        \n",
        "    def schedule(self, event, in_time):\n",
        "        next_time = self.time + in_time\n",
        "        \n",
        "        # find the correct position to insert next event (proper time, last in queue)\n",
        "        for i in range(len(self.future_events)+1):\n",
        "            if i==len(self.future_events) or next_time < self.future_events[i][0]:\n",
        "                self.future_events.insert(i, (next_time, event))\n",
        "                break\n",
        "                \n",
        "                \n",
        "class Wheel(Stream):\n",
        "    def __init__(self, ticks):\n",
        "        Stream.__init__(self)\n",
        "        self.ticks = ticks\n",
        "        self.wheel_turn = 0\n",
        "        self.next_wheel_events = []\n",
        "        \n",
        "        \n",
        "    def break_condition(self):\n",
        "        if len(self.future_events)==0 and len(self.next_wheel_events)==0:\n",
        "            return True\n",
        "        \n",
        "        \n",
        "    def progress_time(self):            \n",
        "        \n",
        "        if len(self.future_events)>0 and self.time == self.future_events[0][0]:\n",
        "            return  # don't progress - we still have more events to process\n",
        "        \n",
        "        # up time by one\n",
        "        self.time += 1\n",
        "        \n",
        "        # if necessary, turn the wheel and replace the future events list\n",
        "        if self.time == self.ticks:\n",
        "            self.time = 0\n",
        "            self.wheel_turn += 1\n",
        "            self.future_events = self.next_wheel_events\n",
        "            self.next_wheel_events = []\n",
        "            \n",
        "            # if there are events that have time > ticks, reschedule them\n",
        "            for i in range(len(self.future_events)):\n",
        "                if self.future_events[i][0]>=self.ticks:\n",
        "                    event = self.future_events.pop(i)\n",
        "                    self.schedule(event[1], 0)\n",
        "        \n",
        "        print('Wheel {} Time: {} '.format(self.wheel_turn, self.time))\n",
        "        \n",
        "    def schedule(self, event, in_time):\n",
        "        next_time = self.time + in_time\n",
        "        \n",
        "        if next_time < self.ticks:\n",
        "            # find the correct position to insert next event (proper time, last in queue)\n",
        "            for i in range(len(self.future_events)+1):\n",
        "                if i==len(self.future_events) or next_time < self.future_events[i][0]:\n",
        "                    self.future_events.insert(i, (next_time, event))\n",
        "                    break\n",
        "                    \n",
        "        # if next time doesn't fit in this wheel, place it into a future wheel\n",
        "        else:\n",
        "            next_time = next_time - self.ticks\n",
        "            # find the correct position to insert next event (proper time, last in queue)\n",
        "            for i in range(len(self.next_wheel_events)+1):\n",
        "                if i==len(self.next_wheel_events) or next_time < self.next_wheel_events[i][0]:\n",
        "                    self.next_wheel_events.insert(i, (next_time, event))\n",
        "                    break"
      ],
      "execution_count": 0,
      "outputs": []
    },
    {
      "metadata": {
        "id": "qJeL8Bl_UgTL",
        "colab_type": "code",
        "outputId": "41589325-c653-4f51-b229-7cb515dd8f73",
        "colab": {
          "base_uri": "https://localhost:8080/",
          "height": 136
        }
      },
      "cell_type": "code",
      "source": [
        "# simple car\n",
        "car = Entity('car')\n",
        "\n",
        "start = ChangeState(car, 'on', 1)\n",
        "go = ChangeState(car, 'driving', 10)\n",
        "stop = ChangeState(car, 'stopped', 1)\n",
        "\n",
        "link_events([start, go, stop])\n",
        "\n",
        "s = Stream()\n",
        "s.schedule(start, 10)\n",
        "\n",
        "s.run()"
      ],
      "execution_count": 25,
      "outputs": [
        {
          "output_type": "stream",
          "text": [
            "Time: 10 \n",
            "car changed state from none to on\n",
            "Time: 11 \n",
            "car changed state from on to driving\n",
            "Time: 21 \n",
            "car changed state from driving to stopped\n",
            "Time: 22 \n"
          ],
          "name": "stdout"
        }
      ]
    },
    {
      "metadata": {
        "id": "kX1vy5NOUfoV",
        "colab_type": "code",
        "outputId": "b6635aa8-26cc-4d48-b56e-ff429257d992",
        "colab": {
          "base_uri": "https://localhost:8080/",
          "height": 102
        }
      },
      "cell_type": "code",
      "source": [
        "# simple ATM machine\n",
        "\n",
        "customer = Entity('customer')\n",
        "\n",
        "queue = ChangeState(customer, 'in queue', 0)\n",
        "use = ChangeState(customer, 'using machine', 3)\n",
        "leave = ChangeState(customer, 'left', 0)\n",
        "link_events([queue, use, leave])\n",
        "\n",
        "s = Stream()\n",
        "s.schedule(queue, 0)\n",
        "\n",
        "s.run()"
      ],
      "execution_count": 26,
      "outputs": [
        {
          "output_type": "stream",
          "text": [
            "Time: 0 \n",
            "customer changed state from none to in queue\n",
            "customer changed state from in queue to using machine\n",
            "Time: 3 \n",
            "customer changed state from using machine to left\n"
          ],
          "name": "stdout"
        }
      ]
    },
    {
      "metadata": {
        "id": "xBKj5xFBUfrT",
        "colab_type": "code",
        "outputId": "09691836-625f-4267-d94d-a4ca0b055feb",
        "colab": {
          "base_uri": "https://localhost:8080/",
          "height": 102
        }
      },
      "cell_type": "code",
      "source": [
        "# simple bank simulation\n",
        "customer = Recipient('customer')\n",
        "ATM = Resource('ATM')\n",
        "\n",
        "queue = ChangeState(customer, 'in queue', 0)\n",
        "get_money = AllocateResource(customer, 'using machine', 3, [ATM])\n",
        "leave = DeallocateResource(customer, 'left', 0)\n",
        "link_events([queue, get_money, leave])\n",
        "\n",
        "s = Stream()\n",
        "s.schedule(queue, 0)\n",
        "\n",
        "s.run()"
      ],
      "execution_count": 27,
      "outputs": [
        {
          "output_type": "stream",
          "text": [
            "Time: 0 \n",
            "customer changed state from none to in queue\n",
            "customer changed state from in queue to using machine - using ATM\n",
            "Time: 3 \n",
            "customer changed state from using machine to left\n"
          ],
          "name": "stdout"
        }
      ]
    },
    {
      "metadata": {
        "id": "dMeXWEleUfze",
        "colab_type": "code",
        "outputId": "45c29936-a8ec-4b75-ede5-8aa8ef548136",
        "colab": {
          "base_uri": "https://localhost:8080/",
          "height": 238
        }
      },
      "cell_type": "code",
      "source": [
        "# queue bank simulation\n",
        "customer_1 = Recipient('customer_1')\n",
        "customer_2 = Recipient('customer_2')\n",
        "ATM = Resource('ATM')\n",
        "\n",
        "customer_1_arrives = ChangeState(customer_1, 'in queue', 0)\n",
        "link_events([\n",
        "    customer_1_arrives,\n",
        "    AllocateResource(customer_1, 'using machine', 3, [ATM]),\n",
        "    DeallocateResource(customer_1, 'left', 0)\n",
        "])\n",
        "\n",
        "customer_2_arrives = ChangeState(customer_2, 'in queue', 0)\n",
        "link_events([\n",
        "    customer_2_arrives,\n",
        "    AllocateResource(customer_2, 'using machine', 3, [ATM]),\n",
        "    DeallocateResource(customer_2, 'left', 0)\n",
        "])\n",
        "\n",
        "s = Stream()\n",
        "s.schedule(customer_1_arrives, 0)\n",
        "s.schedule(customer_2_arrives, 1)\n",
        "\n",
        "s.run()"
      ],
      "execution_count": 28,
      "outputs": [
        {
          "output_type": "stream",
          "text": [
            "Time: 0 \n",
            "customer_1 changed state from none to in queue\n",
            "customer_1 changed state from in queue to using machine - using ATM\n",
            "Time: 1 \n",
            "customer_2 changed state from none to in queue\n",
            "all resources are allocated... customer_2 - in queue\n",
            "Time: 2 \n",
            "all resources are allocated... customer_2 - in queue\n",
            "Time: 3 \n",
            "customer_1 changed state from using machine to left\n",
            "customer_2 changed state from in queue to using machine - using ATM\n",
            "Time: 6 \n",
            "customer_2 changed state from using machine to left\n"
          ],
          "name": "stdout"
        }
      ]
    },
    {
      "metadata": {
        "id": "bxo6X4q4Uf2s",
        "colab_type": "code",
        "outputId": "da942293-94df-4979-c0e4-cb4b18bb821f",
        "colab": {
          "base_uri": "https://localhost:8080/",
          "height": 289
        }
      },
      "cell_type": "code",
      "source": [
        "# multiple resources bank simulation\n",
        "customer_1 = Recipient('customer_1')\n",
        "customer_2 = Recipient('customer_2')\n",
        "customer_3 = Recipient('customer_3')\n",
        "ATM_1 = Resource('ATM_1')\n",
        "ATM_2 = Resource('ATM_2')\n",
        "\n",
        "customer_1_arrives = ChangeState(customer_1, 'in queue', 0)\n",
        "link_events([\n",
        "    customer_1_arrives,\n",
        "    AllocateResource(customer_1, 'using machine', 3, [ATM_1, ATM_2]),\n",
        "    DeallocateResource(customer_1, 'left', 0)\n",
        "])\n",
        "\n",
        "customer_2_arrives = ChangeState(customer_2, 'in queue', 0)\n",
        "link_events([\n",
        "    customer_2_arrives,\n",
        "    AllocateResource(customer_2, 'using machine', 3, [ATM_1, ATM_2]),\n",
        "    DeallocateResource(customer_2, 'left', 0)\n",
        "])\n",
        "\n",
        "customer_3_arrives = ChangeState(customer_3, 'in queue', 0)\n",
        "link_events([\n",
        "    customer_3_arrives,\n",
        "    AllocateResource(customer_3, 'using machine', 3, [ATM_1, ATM_2]),\n",
        "    DeallocateResource(customer_3, 'left', 0)\n",
        "])\n",
        "\n",
        "s = Stream()\n",
        "s.schedule(customer_1_arrives, 0)\n",
        "s.schedule(customer_2_arrives, 1)\n",
        "s.schedule(customer_3_arrives, 2)\n",
        "\n",
        "s.run()"
      ],
      "execution_count": 29,
      "outputs": [
        {
          "output_type": "stream",
          "text": [
            "Time: 0 \n",
            "customer_1 changed state from none to in queue\n",
            "customer_1 changed state from in queue to using machine - using ATM_1\n",
            "Time: 1 \n",
            "customer_2 changed state from none to in queue\n",
            "customer_2 changed state from in queue to using machine - using ATM_2\n",
            "Time: 2 \n",
            "customer_3 changed state from none to in queue\n",
            "all resources are allocated... customer_3 - in queue\n",
            "Time: 3 \n",
            "customer_1 changed state from using machine to left\n",
            "customer_3 changed state from in queue to using machine - using ATM_1\n",
            "Time: 4 \n",
            "customer_2 changed state from using machine to left\n",
            "Time: 6 \n",
            "customer_3 changed state from using machine to left\n"
          ],
          "name": "stdout"
        }
      ]
    },
    {
      "metadata": {
        "id": "IPXwWJ6iQJRT",
        "colab_type": "code",
        "colab": {
          "base_uri": "https://localhost:8080/",
          "height": 901
        },
        "outputId": "aafd11ee-e133-46a6-d0a6-46d7b3e75e59"
      },
      "cell_type": "code",
      "source": [
        "# simple car - timing wheel\n",
        "car = Entity('car')\n",
        "\n",
        "start = ChangeState(car, 'idle', 1)\n",
        "\n",
        "link_events([\n",
        "    start, \n",
        "    ChangeState(car, 'driving', 10),\n",
        "    ChangeState(car, 'waiting at light', 2),\n",
        "    ChangeState(car, 'driving', 14),\n",
        "    ChangeState(car, 'stopped', 10)\n",
        "])\n",
        "\n",
        "w = Wheel(16)\n",
        "w.schedule(start, 10)\n",
        "\n",
        "w.run()"
      ],
      "execution_count": 54,
      "outputs": [
        {
          "output_type": "stream",
          "text": [
            "Wheel 0 Time: 1 \n",
            "Wheel 0 Time: 2 \n",
            "Wheel 0 Time: 3 \n",
            "Wheel 0 Time: 4 \n",
            "Wheel 0 Time: 5 \n",
            "Wheel 0 Time: 6 \n",
            "Wheel 0 Time: 7 \n",
            "Wheel 0 Time: 8 \n",
            "Wheel 0 Time: 9 \n",
            "Wheel 0 Time: 10 \n",
            "car changed state from none to idle\n",
            "Wheel 0 Time: 11 \n",
            "car changed state from idle to driving\n",
            "Wheel 0 Time: 12 \n",
            "Wheel 0 Time: 13 \n",
            "Wheel 0 Time: 14 \n",
            "Wheel 0 Time: 15 \n",
            "Wheel 1 Time: 0 \n",
            "Wheel 1 Time: 1 \n",
            "Wheel 1 Time: 2 \n",
            "Wheel 1 Time: 3 \n",
            "Wheel 1 Time: 4 \n",
            "Wheel 1 Time: 5 \n",
            "car changed state from driving to waiting at light\n",
            "Wheel 1 Time: 6 \n",
            "Wheel 1 Time: 7 \n",
            "car changed state from waiting at light to driving\n",
            "Wheel 1 Time: 8 \n",
            "Wheel 1 Time: 9 \n",
            "Wheel 1 Time: 10 \n",
            "Wheel 1 Time: 11 \n",
            "Wheel 1 Time: 12 \n",
            "Wheel 1 Time: 13 \n",
            "Wheel 1 Time: 14 \n",
            "Wheel 1 Time: 15 \n",
            "Wheel 2 Time: 0 \n",
            "Wheel 2 Time: 1 \n",
            "Wheel 2 Time: 2 \n",
            "Wheel 2 Time: 3 \n",
            "Wheel 2 Time: 4 \n",
            "Wheel 2 Time: 5 \n",
            "car changed state from driving to stopped\n",
            "Wheel 2 Time: 6 \n",
            "Wheel 2 Time: 7 \n",
            "Wheel 2 Time: 8 \n",
            "Wheel 2 Time: 9 \n",
            "Wheel 2 Time: 10 \n",
            "Wheel 2 Time: 11 \n",
            "Wheel 2 Time: 12 \n",
            "Wheel 2 Time: 13 \n",
            "Wheel 2 Time: 14 \n",
            "Wheel 2 Time: 15 \n"
          ],
          "name": "stdout"
        }
      ]
    },
    {
      "metadata": {
        "id": "ScHchW7l6tmc",
        "colab_type": "code",
        "colab": {}
      },
      "cell_type": "code",
      "source": [
        ""
      ],
      "execution_count": 0,
      "outputs": []
    }
  ]
}