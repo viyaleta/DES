{
  "nbformat": 4,
  "nbformat_minor": 0,
  "metadata": {
    "colab": {
      "name": "DES.ipynb",
      "version": "0.3.2",
      "provenance": [],
      "collapsed_sections": [],
      "include_colab_link": true
    },
    "kernelspec": {
      "name": "python3",
      "display_name": "Python 3"
    }
  },
  "cells": [
    {
      "cell_type": "markdown",
      "metadata": {
        "id": "view-in-github",
        "colab_type": "text"
      },
      "source": [
        "<a href=\"https://colab.research.google.com/github/viyaleta/DES/blob/master/DES.ipynb\" target=\"_parent\"><img src=\"https://colab.research.google.com/assets/colab-badge.svg\" alt=\"Open In Colab\"/></a>"
      ]
    },
    {
      "metadata": {
        "id": "QBakJUEK-a6x",
        "colab_type": "code",
        "colab": {}
      },
      "cell_type": "code",
      "source": [
        "class SimLogger:\n",
        "    def __init__(self, fmt='Time: %s', wheel_size=1):\n",
        "        self.fmt = fmt\n",
        "        self.wheel_size = wheel_size\n",
        "        self.current_sim_time = tuple([0]*fmt.count('%')) \n",
        "        self.log_entries = []\n",
        "        self.stats = {}\n",
        "        \n",
        "    def log_time(self, *argv):\n",
        "        self.current_sim_time = argv\n",
        "        \n",
        "    def log_event(self, event):\n",
        "        self.log_entries.append([self.current_sim_time, event.obj.name, \n",
        "                                 event.obj.state, event.description])\n",
        "        \n",
        "        if event.obj.name not in self.stats.keys():\n",
        "            self.stats[event.obj.name] = {}\n",
        "        if event.obj.state not in self.stats[event.obj.name].keys():\n",
        "            self.stats[event.obj.name][event.obj.state] = 0\n",
        "        \n",
        "        \n",
        "    def read(self):\n",
        "        for entry in self.log_entries:\n",
        "            time = self.fmt % entry[0]\n",
        "            print('{time:<20} > {desc}'.format(time=time, desc=entry[-1]))\n",
        "            \n",
        "    def compile_stats(self):\n",
        "        obj_prev_time = {obj: 0 for obj in list(set(sum(self.log_entries, [])[1::4]))}\n",
        "        obj_prev_state = {obj: None for obj in list(set(sum(self.log_entries, [])[1::4]))}\n",
        "\n",
        "        for i in range(len(self.log_entries)):\n",
        "            obj = self.log_entries[i][1]\n",
        "            state = self.log_entries[i][2]\n",
        "            \n",
        "            if len(self.log_entries[i][0])>1:\n",
        "                time = self.log_entries[i][0][0]*self.wheel_size + self.log_entries[i][0][1]\n",
        "            else:\n",
        "                time = self.log_entries[i][0][0]\n",
        "            \n",
        "            prev_state = obj_prev_state[obj]\n",
        "            duration = time-obj_prev_time[obj]\n",
        "            if prev_state:\n",
        "                self.stats[obj][prev_state] += duration\n",
        "\n",
        "            obj_prev_time[obj] = time\n",
        "            obj_prev_state[obj] = state"
      ],
      "execution_count": 0,
      "outputs": []
    },
    {
      "metadata": {
        "id": "Qrpq8MXKUXYI",
        "colab_type": "code",
        "colab": {}
      },
      "cell_type": "code",
      "source": [
        "class Entity:\n",
        "    def __init__(self, name, state='none', state_duration=0):\n",
        "        self.name = name\n",
        "        self.state = state\n",
        "        self.state_duration = state_duration\n",
        "    \n",
        "            \n",
        "class Resource(Entity):\n",
        "    def __init__(self, name, in_use=False):\n",
        "        Entity.__init__(self, name)\n",
        "        self.in_use = in_use\n",
        "        \n",
        "        \n",
        "class Recipient(Entity):\n",
        "    def __init__(self, name, state='none', state_duration=0):\n",
        "        Entity.__init__(self, name, state_duration=0)\n",
        "        self.resource = None\n",
        "        \n",
        "        \n",
        "class ServiceProvider(Entity):\n",
        "    def __init__(self, name, available_states=[]):\n",
        "        Entity.__init__(self, name)\n",
        "        self.available_states = available_states\n",
        "        self.user = None\n",
        "    \n",
        "    @property\n",
        "    def available(self):\n",
        "        return True if not self.user and self.state in self.available_states else False"
      ],
      "execution_count": 0,
      "outputs": []
    },
    {
      "metadata": {
        "id": "XlxCG5qyhGW9",
        "colab_type": "code",
        "colab": {}
      },
      "cell_type": "code",
      "source": [
        "### BASIC EVENTS ###\n",
        "\n",
        "class Event:\n",
        "    def __init__(self, obj, next_event=None):\n",
        "        self.obj = obj\n",
        "        self.next_event = next_event\n",
        "        self.description = ''\n",
        "        \n",
        "    def process(self):\n",
        "        return self.next_event, self.obj.state_duration\n",
        "        \n",
        "        \n",
        "class ChangeState(Event):\n",
        "    def __init__(self, obj, new_state='', new_state_duration=0, \n",
        "                 next_event=None):\n",
        "        Event.__init__(self, obj, next_event)\n",
        "        self.new_state = new_state\n",
        "        self.new_state_duration = new_state_duration\n",
        "        \n",
        "    def process(self):\n",
        "        self.obj.state = self.new_state\n",
        "        self.obj.state_duration = self.new_state_duration\n",
        "        \n",
        "        self.description = '{} changed state to {}'.format(self.obj.name, self.new_state)\n",
        "        return self.next_event, self.obj.state_duration\n",
        "\n",
        "    \n",
        "    \n",
        "### EVENTS FOR RESOURCE ALLOCATION ###\n",
        "\n",
        "class AllocateResource(ChangeState):\n",
        "    def __init__(self, obj, new_state='', new_state_duration=0, \n",
        "                 resources=[], next_event=None):\n",
        "        ChangeState.__init__(self, obj, new_state, new_state_duration, next_event)\n",
        "        self.resources = resources\n",
        "        \n",
        "    def process(self):\n",
        "        resource_dibs = None\n",
        "        \n",
        "        # check if the resource is in use\n",
        "        for resource in self.resources:\n",
        "            if resource.in_use == False:\n",
        "                resource_dibs = resource\n",
        "                break\n",
        "                \n",
        "        # if nothing, wait one more tick\n",
        "        if not resource_dibs:\n",
        "            self.description = '{} {} - no resources available'.format(self.obj.name, self.obj.state)\n",
        "            return self, 1\n",
        "            \n",
        "        # change state\n",
        "        old_state = self.obj.state\n",
        "        self.obj.state = self.new_state\n",
        "        self.obj.state_duration = self.new_state_duration\n",
        "        \n",
        "        # allocate the resource\n",
        "        self.obj.resource = resource_dibs\n",
        "        self.obj.resource.in_use = True\n",
        "        \n",
        "        self.description = '{} changed state from {} to {} - using {}'.format(self.obj.name, old_state, self.new_state, resource_dibs.name)\n",
        "        \n",
        "        return self.next_event, self.obj.state_duration\n",
        "        \n",
        "class DeallocateResource(ChangeState):\n",
        "    def __init__(self, obj, new_state='', new_state_duration=0, next_event=None):\n",
        "        ChangeState.__init__(self, obj, new_state, new_state_duration, next_event)\n",
        "        \n",
        "    def process(self):\n",
        "        # change state\n",
        "        old_state = self.obj.state\n",
        "        self.obj.state = self.new_state\n",
        "        self.obj.state_duration = self.new_state_duration\n",
        "        \n",
        "        # change resource to not in use and remove from recipient\n",
        "        self.obj.resource.in_use = False\n",
        "        self.obj.resource = None\n",
        "        \n",
        "        self.description = '{} changed state from {} to {}'.format(self.obj.name, old_state, self.obj.state)\n",
        "        return self.next_event, self.obj.state_duration\n",
        "    \n",
        "    \n",
        "### EVENTS FOR SERVICE ALLOCATION ###\n",
        "\n",
        "\n",
        "class GetService(Event):\n",
        "    # links state of user to a service provider\n",
        "    def __init__(self, obj, service_pool):\n",
        "        Event.__init__(self, obj)\n",
        "        self.service_pool = service_pool\n",
        "        \n",
        "    def process(self):\n",
        "        service_dibs = None\n",
        "        \n",
        "        # allocate obj from pool to obj\n",
        "        for service in self.service_pool:\n",
        "            if service.available:\n",
        "                service_dibs = service\n",
        "                break\n",
        "                \n",
        "        if not service_dibs:\n",
        "            self.description = '{} {} - no services available'.format(self.obj.name, self.obj.state)\n",
        "            return self, 1\n",
        "        \n",
        "        # link this object to service\n",
        "        service_dibs.user = self.obj\n",
        "        self.description = '{} will now service {}'.format(service_dibs.name, service_dibs.user.name)\n",
        "        return None, 0\n",
        "    \n",
        "    \n",
        "class Service(ChangeState):\n",
        "    # services user using a service provider \n",
        "    def __init__(self, obj, new_state, new_state_duration, next_event=None):\n",
        "        ChangeState.__init__(self, obj, new_state, new_state_duration, next_event)\n",
        "        \n",
        "    def process(self):        \n",
        "        # waiting for a user\n",
        "        if not self.obj.user:\n",
        "            self.description = '{} {} - no users to service'\\\n",
        "                .format(self.obj.name, self.obj.state)\n",
        "            return self, 1\n",
        "        \n",
        "        self.obj.state = self.new_state\n",
        "        self.obj.state_duration = self.new_state_duration\n",
        "        self.obj.user.state = self.new_state\n",
        "        self.obj.user.state_duration = self.new_state_duration\n",
        "        \n",
        "        self.description = '{} and {} changed state to {}'\\\n",
        "            .format(self.obj.name, self.obj.user.name, self.new_state)\n",
        "        \n",
        "        return self.next_event, self.obj.state_duration\n",
        "    \n",
        "    \n",
        "class EndService(ChangeState):\n",
        "    # services user using a service provider and change state\n",
        "    def __init__(self, obj, new_state, new_state_duration, next_event=None):\n",
        "        ChangeState.__init__(self, obj, new_state, new_state_duration, next_event)\n",
        "        \n",
        "    def process(self):\n",
        "        \n",
        "        old_state = self.obj.state\n",
        "        self.description = '{} changed state from {} to {} and {} changed state from {} to {}'\\\n",
        "            .format(self.obj.name, old_state, self.new_state, self.obj.user.name, old_state, 'none')\n",
        "        \n",
        "        self.obj.state = self.new_state\n",
        "        self.obj.state_duration = self.new_state_duration\n",
        "        \n",
        "        self.obj.user.state = 'none'\n",
        "        self.obj.user.state_duration = 0\n",
        "        self.obj.user = None\n",
        "        \n",
        "        return self.next_event, self.obj.state_duration"
      ],
      "execution_count": 0,
      "outputs": []
    },
    {
      "metadata": {
        "id": "1_shdkiGg-jR",
        "colab_type": "code",
        "colab": {}
      },
      "cell_type": "code",
      "source": [
        "class Stream:\n",
        "    def __init__(self, until=-1):\n",
        "        self.time = 0\n",
        "        self.future_events = []\n",
        "        self.until = until\n",
        "        self.log = SimLogger('Time: %s')\n",
        "        \n",
        "    def run(self):\n",
        "        while True:\n",
        "            # progress time\n",
        "            self.progress_time()\n",
        "\n",
        "            # for all events in the current time, process event\n",
        "            while len(self.future_events)>0 and self.time==self.future_events[0][0]:\n",
        "                _, event = self.future_events.pop(0)\n",
        "                if event:                 \n",
        "                    next_event, current_event_duration = event.process()\n",
        "                    self.log.log_event(event)\n",
        "\n",
        "                    # schedule next event\n",
        "                    self.schedule(next_event, current_event_duration)\n",
        "                    \n",
        "            if self.break_condition():\n",
        "                break\n",
        "                \n",
        "    def break_condition(self):\n",
        "        if (self.time+1)==self.until:\n",
        "            return True\n",
        "        \n",
        "        if len(self.future_events)==0:\n",
        "            return True\n",
        "        \n",
        "        if self.until>0 and self.future_events[0][0]>self.until:\n",
        "            return True\n",
        "                \n",
        "    def progress_time(self):\n",
        "        # grab time of the next event in the queue\n",
        "        self.time = self.future_events[0][0]\n",
        "        self.log.log_time(self.time)\n",
        "        \n",
        "    def schedule(self, event, current_event_duration):\n",
        "        next_time = self.time + current_event_duration\n",
        "        \n",
        "        # find the correct position to insert next event (proper time, last in queue)\n",
        "        for i in range(len(self.future_events)+1):\n",
        "            if i==len(self.future_events) or next_time < self.future_events[i][0]:\n",
        "                self.future_events.insert(i, (next_time, event))\n",
        "                break\n",
        "                \n",
        "                \n",
        "class Wheel(Stream):\n",
        "    def __init__(self, ticks, max_turns=-1):\n",
        "        Stream.__init__(self)\n",
        "        self.ticks = ticks\n",
        "        self.wheel_turn = 0\n",
        "        self.max_turns = max_turns\n",
        "        self.next_wheel_events = []\n",
        "        self.log = SimLogger('Wheel: %s Time: %s', self.ticks)\n",
        "        \n",
        "    def break_condition(self):\n",
        "        if (self.time+1)==self.ticks and (self.wheel_turn+1)==self.max_turns:\n",
        "            return True\n",
        "        \n",
        "        if len(self.future_events)==0 and len(self.next_wheel_events)==0:\n",
        "            return True\n",
        "        \n",
        "        \n",
        "    def progress_time(self):            \n",
        "        \n",
        "        if len(self.future_events)>0 and self.time == self.future_events[0][0]:\n",
        "            return  # don't progress - we still have more events to process\n",
        "        \n",
        "        # up time by one\n",
        "        self.time += 1\n",
        "        \n",
        "        # if necessary, turn the wheel and replace the future events list\n",
        "        if self.time == self.ticks:\n",
        "            self.time = 0\n",
        "            self.wheel_turn += 1\n",
        "            self.future_events = self.next_wheel_events\n",
        "            self.next_wheel_events = []\n",
        "            \n",
        "            # if there are events that have time > ticks, reschedule them\n",
        "            for i in range(len(self.future_events)):\n",
        "                if self.future_events[i][0]>=self.ticks:\n",
        "                    event = self.future_events.pop(i)\n",
        "                    self.schedule(event[1], 0)\n",
        "                    \n",
        "        self.log.log_time(self.wheel_turn, self.time)\n",
        "        \n",
        "        \n",
        "    def schedule(self, event, in_time):\n",
        "        next_time = self.time + in_time\n",
        "        \n",
        "        if next_time < self.ticks:\n",
        "            # find the correct position to insert next event (proper time, last in queue)\n",
        "            for i in range(len(self.future_events)+1):\n",
        "                if i==len(self.future_events) or next_time < self.future_events[i][0]:\n",
        "                    self.future_events.insert(i, (next_time, event))\n",
        "                    break\n",
        "                    \n",
        "        # if next time doesn't fit in this wheel, place it into a future wheel\n",
        "        else:\n",
        "            next_time = next_time - self.ticks\n",
        "            # find the correct position to insert next event (proper time, last in queue)\n",
        "            for i in range(len(self.next_wheel_events)+1):\n",
        "                if i==len(self.next_wheel_events) or next_time < self.next_wheel_events[i][0]:\n",
        "                    self.next_wheel_events.insert(i, (next_time, event))\n",
        "                    break"
      ],
      "execution_count": 0,
      "outputs": []
    },
    {
      "metadata": {
        "id": "gf7-5mKLIoR9",
        "colab_type": "code",
        "colab": {}
      },
      "cell_type": "code",
      "source": [
        "### CONVENIENCE FUNCTIONS ###\n",
        "\n",
        "def link_events(events):\n",
        "    for i in range(1, len(events)):\n",
        "        events[i-1].next_event = events[i]\n",
        "        \n",
        "        \n",
        "def circular_link_events(events):\n",
        "    for i in range(1, len(events)):\n",
        "        events[i-1].next_event = events[i]\n",
        "    events[-1].next_event = events[0]"
      ],
      "execution_count": 0,
      "outputs": []
    },
    {
      "metadata": {
        "id": "qJeL8Bl_UgTL",
        "colab_type": "code",
        "outputId": "f31ce692-9991-4c97-9794-cd1c137ddc33",
        "colab": {
          "base_uri": "https://localhost:8080/",
          "height": 68
        }
      },
      "cell_type": "code",
      "source": [
        "# simple car\n",
        "car = Entity('car')\n",
        "\n",
        "start = ChangeState(car, 'on', 1)\n",
        "go = ChangeState(car, 'driving', 10)\n",
        "stop = ChangeState(car, 'stopped', 1)\n",
        "\n",
        "link_events([start, go, stop])\n",
        "\n",
        "s = Stream()\n",
        "s.schedule(start, 10)\n",
        "\n",
        "s.run()\n",
        "s.log.read()"
      ],
      "execution_count": 112,
      "outputs": [
        {
          "output_type": "stream",
          "text": [
            "Time: 10             > car changed state to on\n",
            "Time: 11             > car changed state to driving\n",
            "Time: 21             > car changed state to stopped\n"
          ],
          "name": "stdout"
        }
      ]
    },
    {
      "metadata": {
        "id": "Wpd1qrdXyrmz",
        "colab_type": "code",
        "colab": {
          "base_uri": "https://localhost:8080/",
          "height": 34
        },
        "outputId": "153ce65b-dee2-447a-db88-90366fcbd792"
      },
      "cell_type": "code",
      "source": [
        "s.log.compile_stats()\n",
        "s.log.stats"
      ],
      "execution_count": 113,
      "outputs": [
        {
          "output_type": "execute_result",
          "data": {
            "text/plain": [
              "{'car': {'driving': 10, 'on': 1, 'stopped': 0}}"
            ]
          },
          "metadata": {
            "tags": []
          },
          "execution_count": 113
        }
      ]
    },
    {
      "metadata": {
        "id": "kX1vy5NOUfoV",
        "colab_type": "code",
        "outputId": "2c8b8686-4772-4238-a6e5-53f081cc6386",
        "colab": {
          "base_uri": "https://localhost:8080/",
          "height": 68
        }
      },
      "cell_type": "code",
      "source": [
        "# simple ATM machine\n",
        "\n",
        "customer = Entity('customer')\n",
        "\n",
        "queue = ChangeState(customer, 'in queue', 0)\n",
        "use = ChangeState(customer, 'using machine', 3)\n",
        "leave = ChangeState(customer, 'left', 0)\n",
        "link_events([queue, use, leave])\n",
        "\n",
        "s = Stream()\n",
        "s.schedule(queue, 0)\n",
        "\n",
        "s.run()\n",
        "s.log.read()"
      ],
      "execution_count": 114,
      "outputs": [
        {
          "output_type": "stream",
          "text": [
            "Time: 0              > customer changed state to in queue\n",
            "Time: 0              > customer changed state to using machine\n",
            "Time: 3              > customer changed state to left\n"
          ],
          "name": "stdout"
        }
      ]
    },
    {
      "metadata": {
        "id": "WbfmW2SQ3Yoe",
        "colab_type": "code",
        "colab": {
          "base_uri": "https://localhost:8080/",
          "height": 34
        },
        "outputId": "fd487420-7069-435b-e26b-406c5b9fd70b"
      },
      "cell_type": "code",
      "source": [
        "s.log.compile_stats()\n",
        "s.log.stats"
      ],
      "execution_count": 115,
      "outputs": [
        {
          "output_type": "execute_result",
          "data": {
            "text/plain": [
              "{'customer': {'in queue': 0, 'left': 0, 'using machine': 3}}"
            ]
          },
          "metadata": {
            "tags": []
          },
          "execution_count": 115
        }
      ]
    },
    {
      "metadata": {
        "id": "xBKj5xFBUfrT",
        "colab_type": "code",
        "outputId": "19cd4492-f8a8-4c3c-ccac-5ac49af13380",
        "colab": {
          "base_uri": "https://localhost:8080/",
          "height": 68
        }
      },
      "cell_type": "code",
      "source": [
        "# simple bank simulation\n",
        "customer = Recipient('customer')\n",
        "ATM = Resource('ATM')\n",
        "\n",
        "queue = ChangeState(customer, 'in queue', 0)\n",
        "get_money = AllocateResource(customer, 'using machine', 3, [ATM])\n",
        "leave = DeallocateResource(customer, 'left', 0)\n",
        "link_events([queue, get_money, leave])\n",
        "\n",
        "s = Stream()\n",
        "s.schedule(queue, 0)\n",
        "\n",
        "s.run()\n",
        "s.log.read()"
      ],
      "execution_count": 116,
      "outputs": [
        {
          "output_type": "stream",
          "text": [
            "Time: 0              > customer changed state to in queue\n",
            "Time: 0              > customer changed state from in queue to using machine - using ATM\n",
            "Time: 3              > customer changed state from using machine to left\n"
          ],
          "name": "stdout"
        }
      ]
    },
    {
      "metadata": {
        "id": "kSY2CsV53at9",
        "colab_type": "code",
        "colab": {
          "base_uri": "https://localhost:8080/",
          "height": 34
        },
        "outputId": "1485efa2-cd7a-40f4-9c99-3291e2e64083"
      },
      "cell_type": "code",
      "source": [
        "s.log.compile_stats()\n",
        "s.log.stats"
      ],
      "execution_count": 117,
      "outputs": [
        {
          "output_type": "execute_result",
          "data": {
            "text/plain": [
              "{'customer': {'in queue': 0, 'left': 0, 'using machine': 3}}"
            ]
          },
          "metadata": {
            "tags": []
          },
          "execution_count": 117
        }
      ]
    },
    {
      "metadata": {
        "id": "dMeXWEleUfze",
        "colab_type": "code",
        "outputId": "9223f301-3a4a-4c27-a0ee-5e3c4707b8a5",
        "colab": {
          "base_uri": "https://localhost:8080/",
          "height": 153
        }
      },
      "cell_type": "code",
      "source": [
        "# queue bank simulation\n",
        "customer_1 = Recipient('customer_1')\n",
        "customer_2 = Recipient('customer_2')\n",
        "ATM = Resource('ATM')\n",
        "\n",
        "customer_1_arrives = ChangeState(customer_1, 'in queue', 0)\n",
        "link_events([\n",
        "    customer_1_arrives,\n",
        "    AllocateResource(customer_1, 'using machine', 3, [ATM]),\n",
        "    DeallocateResource(customer_1, 'left', 0)\n",
        "])\n",
        "\n",
        "customer_2_arrives = ChangeState(customer_2, 'in queue', 0)\n",
        "link_events([\n",
        "    customer_2_arrives,\n",
        "    AllocateResource(customer_2, 'using machine', 3, [ATM]),\n",
        "    DeallocateResource(customer_2, 'left', 0)\n",
        "])\n",
        "\n",
        "s = Stream()\n",
        "s.schedule(customer_1_arrives, 0)\n",
        "s.schedule(customer_2_arrives, 1)\n",
        "\n",
        "s.run()\n",
        "s.log.read()"
      ],
      "execution_count": 118,
      "outputs": [
        {
          "output_type": "stream",
          "text": [
            "Time: 0              > customer_1 changed state to in queue\n",
            "Time: 0              > customer_1 changed state from in queue to using machine - using ATM\n",
            "Time: 1              > customer_2 changed state to in queue\n",
            "Time: 1              > customer_2 in queue - no resources available\n",
            "Time: 2              > customer_2 in queue - no resources available\n",
            "Time: 3              > customer_1 changed state from using machine to left\n",
            "Time: 3              > customer_2 changed state from in queue to using machine - using ATM\n",
            "Time: 6              > customer_2 changed state from using machine to left\n"
          ],
          "name": "stdout"
        }
      ]
    },
    {
      "metadata": {
        "id": "zDCX5PD93dHR",
        "colab_type": "code",
        "colab": {
          "base_uri": "https://localhost:8080/",
          "height": 51
        },
        "outputId": "bfcf07c9-940f-4bb8-bef6-b5d7d75a3a28"
      },
      "cell_type": "code",
      "source": [
        "s.log.compile_stats()\n",
        "s.log.stats"
      ],
      "execution_count": 119,
      "outputs": [
        {
          "output_type": "execute_result",
          "data": {
            "text/plain": [
              "{'customer_1': {'in queue': 0, 'left': 0, 'using machine': 3},\n",
              " 'customer_2': {'in queue': 2, 'left': 0, 'using machine': 3}}"
            ]
          },
          "metadata": {
            "tags": []
          },
          "execution_count": 119
        }
      ]
    },
    {
      "metadata": {
        "id": "bxo6X4q4Uf2s",
        "colab_type": "code",
        "outputId": "31ade89e-dfe2-4ab2-97a7-f5075630c3f4",
        "colab": {
          "base_uri": "https://localhost:8080/",
          "height": 187
        }
      },
      "cell_type": "code",
      "source": [
        "# multiple resources bank simulation\n",
        "customer_1 = Recipient('customer_1')\n",
        "customer_2 = Recipient('customer_2')\n",
        "customer_3 = Recipient('customer_3')\n",
        "ATM_1 = Resource('ATM_1')\n",
        "ATM_2 = Resource('ATM_2')\n",
        "\n",
        "customer_1_arrives = ChangeState(customer_1, 'in queue', 0)\n",
        "link_events([\n",
        "    customer_1_arrives,\n",
        "    AllocateResource(customer_1, 'using machine', 3, [ATM_1, ATM_2]),\n",
        "    DeallocateResource(customer_1, 'left', 0)\n",
        "])\n",
        "\n",
        "customer_2_arrives = ChangeState(customer_2, 'in queue', 0)\n",
        "link_events([\n",
        "    customer_2_arrives,\n",
        "    AllocateResource(customer_2, 'using machine', 3, [ATM_1, ATM_2]),\n",
        "    DeallocateResource(customer_2, 'left', 0)\n",
        "])\n",
        "\n",
        "customer_3_arrives = ChangeState(customer_3, 'in queue', 0)\n",
        "link_events([\n",
        "    customer_3_arrives,\n",
        "    AllocateResource(customer_3, 'using machine', 3, [ATM_1, ATM_2]),\n",
        "    DeallocateResource(customer_3, 'left', 0)\n",
        "])\n",
        "\n",
        "s = Stream()\n",
        "s.schedule(customer_1_arrives, 0)\n",
        "s.schedule(customer_2_arrives, 1)\n",
        "s.schedule(customer_3_arrives, 2)\n",
        "\n",
        "s.run()\n",
        "s.log.read()"
      ],
      "execution_count": 120,
      "outputs": [
        {
          "output_type": "stream",
          "text": [
            "Time: 0              > customer_1 changed state to in queue\n",
            "Time: 0              > customer_1 changed state from in queue to using machine - using ATM_1\n",
            "Time: 1              > customer_2 changed state to in queue\n",
            "Time: 1              > customer_2 changed state from in queue to using machine - using ATM_2\n",
            "Time: 2              > customer_3 changed state to in queue\n",
            "Time: 2              > customer_3 in queue - no resources available\n",
            "Time: 3              > customer_1 changed state from using machine to left\n",
            "Time: 3              > customer_3 changed state from in queue to using machine - using ATM_1\n",
            "Time: 4              > customer_2 changed state from using machine to left\n",
            "Time: 6              > customer_3 changed state from using machine to left\n"
          ],
          "name": "stdout"
        }
      ]
    },
    {
      "metadata": {
        "id": "8ZwPmTu23gC2",
        "colab_type": "code",
        "colab": {
          "base_uri": "https://localhost:8080/",
          "height": 68
        },
        "outputId": "c80c7ae7-7eb8-423b-8214-096f09975e9a"
      },
      "cell_type": "code",
      "source": [
        "s.log.compile_stats()\n",
        "s.log.stats"
      ],
      "execution_count": 121,
      "outputs": [
        {
          "output_type": "execute_result",
          "data": {
            "text/plain": [
              "{'customer_1': {'in queue': 0, 'left': 0, 'using machine': 3},\n",
              " 'customer_2': {'in queue': 0, 'left': 0, 'using machine': 3},\n",
              " 'customer_3': {'in queue': 1, 'left': 0, 'using machine': 3}}"
            ]
          },
          "metadata": {
            "tags": []
          },
          "execution_count": 121
        }
      ]
    },
    {
      "metadata": {
        "id": "IPXwWJ6iQJRT",
        "colab_type": "code",
        "outputId": "7d8e2e74-7304-43f1-a5c4-e8f5411fe253",
        "colab": {
          "base_uri": "https://localhost:8080/",
          "height": 102
        }
      },
      "cell_type": "code",
      "source": [
        "# simple car - timing wheel\n",
        "car = Entity('car')\n",
        "\n",
        "start = ChangeState(car, 'idle', 1)\n",
        "\n",
        "link_events([\n",
        "    start, \n",
        "    ChangeState(car, 'driving', 10),\n",
        "    ChangeState(car, 'waiting at light', 2),\n",
        "    ChangeState(car, 'driving', 14),\n",
        "    ChangeState(car, 'stopped', 10)\n",
        "])\n",
        "\n",
        "w = Wheel(16)\n",
        "w.schedule(start, 10)\n",
        "\n",
        "w.run()\n",
        "w.log.read()"
      ],
      "execution_count": 122,
      "outputs": [
        {
          "output_type": "stream",
          "text": [
            "Wheel: 0 Time: 10    > car changed state to idle\n",
            "Wheel: 0 Time: 11    > car changed state to driving\n",
            "Wheel: 1 Time: 5     > car changed state to waiting at light\n",
            "Wheel: 1 Time: 7     > car changed state to driving\n",
            "Wheel: 2 Time: 5     > car changed state to stopped\n"
          ],
          "name": "stdout"
        }
      ]
    },
    {
      "metadata": {
        "id": "hrRL7lAu3jHl",
        "colab_type": "code",
        "colab": {
          "base_uri": "https://localhost:8080/",
          "height": 34
        },
        "outputId": "0fad20d5-8804-4ec6-d086-1888d63ed0cf"
      },
      "cell_type": "code",
      "source": [
        "w.log.compile_stats()\n",
        "w.log.stats"
      ],
      "execution_count": 123,
      "outputs": [
        {
          "output_type": "execute_result",
          "data": {
            "text/plain": [
              "{'car': {'driving': 24, 'idle': 1, 'stopped': 0, 'waiting at light': 2}}"
            ]
          },
          "metadata": {
            "tags": []
          },
          "execution_count": 123
        }
      ]
    },
    {
      "metadata": {
        "id": "_uQNcYQ05FNR",
        "colab_type": "code",
        "outputId": "f5ca8548-73e5-43ed-d5c0-c1621245c5cf",
        "colab": {
          "base_uri": "https://localhost:8080/",
          "height": 102
        }
      },
      "cell_type": "code",
      "source": [
        "# Airport Taxi Allocation (2 people)\n",
        "\n",
        "person_1 = Entity('person_1')\n",
        "person_2 = Entity('person_2')\n",
        "\n",
        "taxi_1 = ServiceProvider('taxi_1', available_states=['waiting'])\n",
        "\n",
        "person_1_intent = ChangeState(person_1, 'in queue', 0, GetService(person_1, [taxi_1]))\n",
        "person_2_intent = ChangeState(person_2, 'in queue', 0, GetService(person_2, [taxi_1]))\n",
        "\n",
        "taxi_1_waiting = ChangeState(taxi_1, 'waiting', 0)\n",
        "circular_link_events([\n",
        "    taxi_1_waiting,\n",
        "    Service(taxi_1, 'traveling downtown', 20),\n",
        "    EndService(taxi_1, 'traveling to airport', 18),\n",
        "])\n",
        "\n",
        "s = Stream(until=100)\n",
        "s.schedule(person_1_intent, 1)\n",
        "s.schedule(person_2_intent, 2)\n",
        "s.schedule(taxi_1_waiting, 3)\n",
        "s.run()\n",
        "# s.log.read()\n",
        "\n",
        "s.log.compile_stats()\n",
        "s.log.stats"
      ],
      "execution_count": 124,
      "outputs": [
        {
          "output_type": "execute_result",
          "data": {
            "text/plain": [
              "{'person_1': {'in queue': 2},\n",
              " 'person_2': {'in queue': 39},\n",
              " 'taxi_1': {'traveling downtown': 40,\n",
              "  'traveling to airport': 36,\n",
              "  'waiting': 20}}"
            ]
          },
          "metadata": {
            "tags": []
          },
          "execution_count": 124
        }
      ]
    },
    {
      "metadata": {
        "id": "ScHchW7l6tmc",
        "colab_type": "code",
        "outputId": "0d4378cc-90dd-4be2-ca84-c352df2f49aa",
        "colab": {
          "base_uri": "https://localhost:8080/",
          "height": 204
        }
      },
      "cell_type": "code",
      "source": [
        "# Airport Taxi Allocation\n",
        "\n",
        "person_1 = Entity('person_1')\n",
        "person_2 = Entity('person_2')\n",
        "person_3 = Entity('person_3')\n",
        "person_4 = Entity('person_4')\n",
        "person_5 = Entity('person_5')\n",
        "taxi_1 = ServiceProvider('taxi_1', ['waiting'])\n",
        "taxi_2 = ServiceProvider('taxi_2', ['waiting'])\n",
        "\n",
        "person_1_intent = ChangeState(person_1, 'in queue', 0, GetService(person_1, [taxi_1, taxi_2]))\n",
        "person_2_intent = ChangeState(person_2, 'in queue', 0, GetService(person_2, [taxi_1, taxi_2]))\n",
        "person_3_intent = ChangeState(person_3, 'in queue', 0, GetService(person_3, [taxi_1, taxi_2]))\n",
        "person_4_intent = ChangeState(person_4, 'in queue', 0, GetService(person_4, [taxi_1, taxi_2]))\n",
        "person_5_intent = ChangeState(person_5, 'in queue', 0, GetService(person_5, [taxi_1, taxi_2]))\n",
        "\n",
        "\n",
        "taxi_1_waiting = ChangeState(taxi_1, 'waiting', 0)\n",
        "circular_link_events([\n",
        "    taxi_1_waiting,\n",
        "    Service(taxi_1, 'traveling downtown', 20),\n",
        "    EndService(taxi_1, 'traveling to airport', 18),\n",
        "])\n",
        "\n",
        "taxi_2_waiting = ChangeState(taxi_2, 'waiting', 0)\n",
        "circular_link_events([\n",
        "    taxi_2_waiting,\n",
        "    Service(taxi_2, 'traveling downtown', 15),\n",
        "    EndService(taxi_2, 'traveling to airport', 14),\n",
        "])\n",
        "\n",
        "s = Stream(until=155)\n",
        "s.schedule(person_1_intent, 1)\n",
        "s.schedule(person_2_intent, 4)\n",
        "s.schedule(person_3_intent, 5)\n",
        "s.schedule(person_4_intent, 16)\n",
        "s.schedule(person_5_intent, 10)\n",
        "s.schedule(taxi_1_waiting, 0)\n",
        "s.schedule(taxi_2_waiting, 5)\n",
        "\n",
        "s.run()\n",
        "# s.log.read()\n",
        "\n",
        "s.log.compile_stats()\n",
        "s.log.stats"
      ],
      "execution_count": 127,
      "outputs": [
        {
          "output_type": "execute_result",
          "data": {
            "text/plain": [
              "{'person_1': {'in queue': 0},\n",
              " 'person_2': {'in queue': 1},\n",
              " 'person_3': {'in queue': 29},\n",
              " 'person_4': {'in queue': 47},\n",
              " 'person_5': {'in queue': 30},\n",
              " 'taxi_1': {'traveling downtown': 40,\n",
              "  'traveling to airport': 36,\n",
              "  'waiting': 78},\n",
              " 'taxi_2': {'traveling downtown': 45,\n",
              "  'traveling to airport': 42,\n",
              "  'waiting': 62}}"
            ]
          },
          "metadata": {
            "tags": []
          },
          "execution_count": 127
        }
      ]
    },
    {
      "metadata": {
        "id": "PtqfaI9B1t60",
        "colab_type": "code",
        "outputId": "e33b54d6-2674-44ea-e46a-47a1f82f58b1",
        "colab": {
          "base_uri": "https://localhost:8080/",
          "height": 102
        }
      },
      "cell_type": "code",
      "source": [
        "# Airport Taxi Allocation with Timing Wheel (2 people)\n",
        "\n",
        "person_1 = Entity('person_1')\n",
        "person_2 = Entity('person_2')\n",
        "\n",
        "taxi_1 = ServiceProvider('taxi_1', available_states=['waiting'])\n",
        "\n",
        "person_1_intent = ChangeState(person_1, 'in queue', 0, GetService(person_1, [taxi_1]))\n",
        "person_2_intent = ChangeState(person_2, 'in queue', 0, GetService(person_2, [taxi_1]))\n",
        "\n",
        "taxi_1_waiting = ChangeState(taxi_1, 'waiting', 0)\n",
        "circular_link_events([\n",
        "    taxi_1_waiting,\n",
        "    Service(taxi_1, 'traveling downtown', 20),\n",
        "    EndService(taxi_1, 'traveling to airport', 18),\n",
        "])\n",
        "\n",
        "w = Wheel(20, max_turns=5)\n",
        "w.schedule(person_1_intent, 1)\n",
        "w.schedule(person_2_intent, 2)\n",
        "w.schedule(taxi_1_waiting, 3)\n",
        "w.run()\n",
        "# w.log.read()\n",
        "\n",
        "\n",
        "w.log.compile_stats()\n",
        "w.log.stats"
      ],
      "execution_count": 128,
      "outputs": [
        {
          "output_type": "execute_result",
          "data": {
            "text/plain": [
              "{'person_1': {'in queue': 2},\n",
              " 'person_2': {'in queue': 39},\n",
              " 'taxi_1': {'traveling downtown': 40,\n",
              "  'traveling to airport': 36,\n",
              "  'waiting': 20}}"
            ]
          },
          "metadata": {
            "tags": []
          },
          "execution_count": 128
        }
      ]
    },
    {
      "metadata": {
        "id": "wiUWeI6L_HVE",
        "colab_type": "code",
        "colab": {}
      },
      "cell_type": "code",
      "source": [
        ""
      ],
      "execution_count": 0,
      "outputs": []
    }
  ]
}