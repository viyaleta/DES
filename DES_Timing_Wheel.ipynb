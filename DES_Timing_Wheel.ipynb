{
  "nbformat": 4,
  "nbformat_minor": 0,
  "metadata": {
    "colab": {
      "name": "DES - Timing Wheel.ipynb",
      "version": "0.3.2",
      "provenance": [],
      "collapsed_sections": [],
      "include_colab_link": true
    },
    "kernelspec": {
      "name": "python3",
      "display_name": "Python 3"
    }
  },
  "cells": [
    {
      "cell_type": "markdown",
      "metadata": {
        "id": "view-in-github",
        "colab_type": "text"
      },
      "source": [
        "<a href=\"https://colab.research.google.com/github/viyaleta/DES/blob/master/DES_Timing_Wheel.ipynb\" target=\"_parent\"><img src=\"https://colab.research.google.com/assets/colab-badge.svg\" alt=\"Open In Colab\"/></a>"
      ]
    },
    {
      "metadata": {
        "id": "Gmj1Zj0u7_5I",
        "colab_type": "code",
        "colab": {}
      },
      "cell_type": "code",
      "source": [
        "class Object:\n",
        "    def __init__(self, name, init_state, init_state_duration=1):\n",
        "        self.name = name\n",
        "        self.current_state = init_state\n",
        "        self.current_state_duration = init_state_duration\n",
        "        self.future_events = [] # tuple pairs of [state, duration]\n",
        "\n",
        "    def update_state(self):\n",
        "        # if nothing scheduled for the future, return -1\n",
        "        if len(self.future_events) == 0:\n",
        "            return 0\n",
        "        \n",
        "        # get state out of future events and set it as current state\n",
        "        # also pop it out of future events\n",
        "        new_state, new_state_duration = self.future_events.pop(0)\n",
        "        self.current_state = new_state\n",
        "        self.current_state_duration = new_state_duration\n",
        "        print('{} state changed to {} for {} ticks'\n",
        "              .format(self.name, self.current_state, self.current_state_duration))\n",
        "        return self.current_state_duration\n",
        "\n",
        "    def get_next_event(self):\n",
        "        if len(self.future_events)>0:\n",
        "            return self.future_events[0][1]\n",
        "        else:\n",
        "            return -1"
      ],
      "execution_count": 0,
      "outputs": []
    },
    {
      "metadata": {
        "id": "Bb0FQxSosjdO",
        "colab_type": "code",
        "colab": {}
      },
      "cell_type": "code",
      "source": [
        "class Wheel:\n",
        "    def __init__(self, objects=[], ticks=60):\n",
        "        self.ticks = ticks\n",
        "        self.wheel_turn = 0\n",
        "        self.current_time = -1\n",
        "        self.objects = objects\n",
        "        self.slots = None\n",
        "        self.future_slots = []\n",
        "        self.__initialize_wheel()\n",
        "\n",
        "    def __initialize_wheel(self):\n",
        "        # initialize slots\n",
        "        self.__initialize_slots()\n",
        "        \n",
        "        # set time to 1 = begin\n",
        "        self.__tick_tock()\n",
        "\n",
        "        for object in self.objects:\n",
        "            # add object to slot of \"current time + duration of current state of this object\"\n",
        "            self.slots[self.current_time+object.current_state_duration].append(object)\n",
        "            print('{} - {} added to time wheel'.format(object.name, object.current_state))\n",
        "            self.__process_queue()\n",
        "            \n",
        "    def __initialize_slots(self, future=False):\n",
        "        # if initializing a future slot, append it to future_slots list\n",
        "        if future:\n",
        "            self.future_slots.append({i:[] for i in range(self.ticks)})\n",
        "            \n",
        "        # if initializing current slot and there is nothing to transfer from future\n",
        "        elif len(self.future_slots)==0:\n",
        "            self.slots = {i:[] for i in range(self.ticks)}\n",
        "            \n",
        "        # if transfering a future slot to current wheel turn\n",
        "        else:\n",
        "            self.slots = self.future_slots.pop(0)\n",
        "\n",
        "    def simulate(self):\n",
        "        while True:            \n",
        "            if self.current_time < self.ticks - 1:\n",
        "                # add 1 to current time and process queue\n",
        "                self.__tick_tock()\n",
        "                self.__process_queue()\n",
        "            elif len(self.objects)>0:\n",
        "                # if the queue is not empty\n",
        "                # turn the wheel and reset the ticks\n",
        "                self.wheel_turn += 1\n",
        "                self.current_time = -1\n",
        "                self.__initialize_slots()\n",
        "            else:\n",
        "                # nothing left to do - terminate the simulation\n",
        "                break\n",
        "\n",
        "    def __tick_tock(self):\n",
        "        self.current_time += 1\n",
        "        if len(self.slots[self.current_time])>0:\n",
        "            print('Wheel:', self.wheel_turn,'Time:', self.current_time)\n",
        "\n",
        "    def __process_queue(self):\n",
        "        ''' Function to process queue at current time\n",
        "        1. Update state of each object that is present in the slot of current time\n",
        "        2. For each object presentSchedule future events\n",
        "        \n",
        "        * If the wheel doesn't have enough ticks, schedule to future slot\n",
        "        ''' \n",
        "\n",
        "        # schedule future event for each object\n",
        "        for object in self.slots[self.current_time]:\n",
        "            \n",
        "            # update state\n",
        "            current_state_duration = object.update_state()\n",
        "\n",
        "            if current_state_duration == 0:\n",
        "                self.objects.remove(object)\n",
        "                print('Simulation for {} complete'.format(object.name))\n",
        "                continue  \n",
        "                # skip the rest because we don't need to schedule anything\n",
        "                \n",
        "            # calculate next event time = now + how long current state will last\n",
        "            next_event_time = self.current_time + current_state_duration\n",
        "            \n",
        "            # add object to the slot of next event time or complete journey\n",
        "            if next_event_time <= self.ticks:\n",
        "                self.slots[next_event_time].append(object)\n",
        "            \n",
        "            # if next event time > wheel capactiy, schedule to next future\n",
        "            else:\n",
        "                # how many wheels ahead to we need to schedule?\n",
        "                turn_count = next_event_time // self.ticks\n",
        "                \n",
        "                # check to see if future slot exists, if not initialize it\n",
        "                for i in range(len(self.future_slots), turn_count):\n",
        "                    self.__initialize_slots(future=True)\n",
        "                \n",
        "                next_event_time = next_event_time % self.ticks\n",
        "\n",
        "                # add object to proper wheel turn number and slot number\n",
        "                self.future_slots[turn_count-1][next_event_time].append(object)\n",
        "\n",
        "        self.slots[self.current_time] = []\n"
      ],
      "execution_count": 0,
      "outputs": []
    },
    {
      "metadata": {
        "id": "x2L31YPq8gy7",
        "colab_type": "code",
        "outputId": "a01568fc-16e7-4d2d-fbd7-ba921be5284e",
        "colab": {
          "base_uri": "https://localhost:8080/",
          "height": 204
        }
      },
      "cell_type": "code",
      "source": [
        "# Simple Car Simulation\n",
        "\n",
        "car = Object('Car', 'idle', 1)\n",
        "car.future_events = [\n",
        "    ('traveling', 4),\n",
        "    ('getting gas', 3),\n",
        "    ('traveling', 20),\n",
        "    ('arriving', 1)\n",
        "]\n",
        "\n",
        "tw = Wheel([car], 60)\n",
        "tw.simulate()\n",
        "\n",
        "# Car state changed to traveling - should be at 1\n",
        "# Car state changed to getting gas - should be at 5\n",
        "# Car state changed to traveling - should be at 8\n",
        "# Car state changed to arriving - should be at 28\n",
        "# Car simulation complete - should be at 29"
      ],
      "execution_count": 65,
      "outputs": [
        {
          "output_type": "stream",
          "text": [
            "Car - idle added to time wheel\n",
            "Wheel: 0 Time: 1\n",
            "Car state changed to traveling for 4 ticks\n",
            "Wheel: 0 Time: 5\n",
            "Car state changed to getting gas for 3 ticks\n",
            "Wheel: 0 Time: 8\n",
            "Car state changed to traveling for 20 ticks\n",
            "Wheel: 0 Time: 28\n",
            "Car state changed to arriving for 1 ticks\n",
            "Wheel: 0 Time: 29\n",
            "Simulation for Car complete\n"
          ],
          "name": "stdout"
        }
      ]
    },
    {
      "metadata": {
        "id": "odl_lUURBOb6",
        "colab_type": "code",
        "colab": {}
      },
      "cell_type": "code",
      "source": [
        ""
      ],
      "execution_count": 0,
      "outputs": []
    }
  ]
}